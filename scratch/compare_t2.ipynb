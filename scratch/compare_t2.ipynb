{
 "cells": [
  {
   "cell_type": "code",
   "execution_count": 1,
   "id": "cb62bf4b",
   "metadata": {},
   "outputs": [],
   "source": [
    "import pickle\n",
    "\n",
    "n_reps = 4\n",
    "\n",
    "filepath = f\"n2_sto-6g_10e8o_{n_reps}_gradient.pickle\"\n",
    "with open(filepath, \"rb\") as f:\n",
    "    data_gradient = pickle.load(f)\n",
    "\n",
    "\n",
    "filepath = f\"n2_sto-6g_10e8o_{n_reps}_gradient-t2_dagger.pickle\"\n",
    "with open(filepath, \"rb\") as f:\n",
    "    data_gradient_dagger = pickle.load(f)\n",
    "\n",
    "filepath = f\"n2_sto-6g_10e8o_{n_reps}_gradient_multi_stage.pickle\"\n",
    "with open(filepath, \"rb\") as f:\n",
    "    data_gradient_multi_stage = pickle.load(f)\n",
    "\n",
    "filepath = f\"n2_sto-6g_10e8o_{n_reps}.pickle\"\n",
    "with open(filepath, \"rb\") as f:\n",
    "    data_numerical_gradient = pickle.load(f)\n",
    "\n",
    "filepath = f\"n2_sto-6g_10e8o_{n_reps}-t2_dagger.pickle\"\n",
    "with open(filepath, \"rb\") as f:\n",
    "    data_numerical_gradient_dagger = pickle.load(f)\n"
   ]
  },
  {
   "cell_type": "code",
   "execution_count": 2,
   "id": "012af8bd",
   "metadata": {},
   "outputs": [
    {
     "name": "stdout",
     "output_type": "stream",
     "text": [
      "energy\n",
      "data_gradient: -108.575632043211\n",
      "data_gradient_dagger: -108.4639160716306\n",
      "data_gradient_gradient_multi_stage: -106.39931406103938\n",
      "data_numerical_gradient: -108.53675524617424\n",
      "data_numerical_gradient_dagger: -108.4647527312714\n"
     ]
    }
   ],
   "source": [
    "print('energy')\n",
    "print(f\"data_gradient: {data_gradient['energy']}\")\n",
    "print(f\"data_gradient_dagger: {data_gradient_dagger['energy']}\")\n",
    "print(f\"data_gradient_gradient_multi_stage: {data_gradient_multi_stage['energy']}\")\n",
    "print(f\"data_numerical_gradient: {data_numerical_gradient['energy']}\")\n",
    "print(f\"data_numerical_gradient_dagger: {data_numerical_gradient_dagger['energy']}\")"
   ]
  },
  {
   "cell_type": "code",
   "execution_count": 3,
   "id": "c5d803b6",
   "metadata": {},
   "outputs": [
    {
     "name": "stdout",
     "output_type": "stream",
     "text": [
      "error\n",
      "data_gradient: 0.02035530776394978\n",
      "data_gradient_dagger: 0.13207127934434482\n",
      "data_gradient_gradient_multi_stage: 2.1966732899355748\n",
      "data_numerical_gradient: 0.059232104800713614\n",
      "data_numerical_gradient_dagger: 0.1312346197035481\n"
     ]
    }
   ],
   "source": [
    "print('error')\n",
    "print(f\"data_gradient: {data_gradient['error']}\")\n",
    "print(f\"data_gradient_dagger: {data_gradient_dagger['error']}\")\n",
    "print(f\"data_gradient_gradient_multi_stage: {data_gradient_multi_stage['error']}\")\n",
    "print(f\"data_numerical_gradient: {data_numerical_gradient['error']}\")\n",
    "print(f\"data_numerical_gradient_dagger: {data_numerical_gradient_dagger['error']}\")"
   ]
  },
  {
   "cell_type": "code",
   "execution_count": 4,
   "id": "78046d4b",
   "metadata": {},
   "outputs": [
    {
     "name": "stdout",
     "output_type": "stream",
     "text": [
      "final_loss\n",
      "data_gradient: 0.0038108772820247333\n",
      "data_gradient_dagger: 0.05763456970453262\n",
      "data_gradient_gradient_multi_stage: 5.9841466281795874e-05\n",
      "data_numerical_gradient: 0.0030629563885514813\n",
      "data_numerical_gradient_dagger: 0.05407686477092247\n"
     ]
    }
   ],
   "source": [
    "print('final_loss')\n",
    "print(f\"data_gradient: {data_gradient['final_loss']}\")\n",
    "print(f\"data_gradient_dagger: {data_gradient_dagger['final_loss']}\")\n",
    "print(f\"data_gradient_gradient_multi_stage: {data_gradient_multi_stage['final_loss']}\")\n",
    "print(f\"data_numerical_gradient: {data_numerical_gradient['final_loss']}\")\n",
    "print(f\"data_numerical_gradient_dagger: {data_numerical_gradient_dagger['final_loss']}\")"
   ]
  },
  {
   "cell_type": "code",
   "execution_count": 5,
   "id": "d350dbc8",
   "metadata": {},
   "outputs": [
    {
     "name": "stdout",
     "output_type": "stream",
     "text": [
      "True\n",
      "True\n",
      "(4, 8, 8)\n",
      "(4, 2, 8, 8)\n"
     ]
    }
   ],
   "source": [
    "operator_gradient = data_gradient['operator']\n",
    "operator_numerical_gradient = data_numerical_gradient['operator']\n",
    "operator_gradient_multi_stage= data_gradient_multi_stage['operator']\n",
    "print(operator_gradient.diag_coulomb_mats.shape == operator_numerical_gradient.diag_coulomb_mats.shape)\n",
    "print(operator_gradient.orbital_rotations.shape == operator_numerical_gradient.orbital_rotations.shape)\n",
    "print(operator_gradient.orbital_rotations.shape)\n",
    "print(operator_gradient.diag_coulomb_mats.shape)"
   ]
  },
  {
   "cell_type": "code",
   "execution_count": 6,
   "id": "c9e427f2",
   "metadata": {},
   "outputs": [],
   "source": [
    "from opt_einsum import contract\n",
    "nocc = 5\n",
    "\n",
    "def fun(diag_coulomb_mats, orbital_rotations):\n",
    "    reconstructed = (\n",
    "            1j\n",
    "            * contract(\n",
    "                \"mpq,map,mip,mbq,mjq->ijab\",\n",
    "                diag_coulomb_mats,\n",
    "                orbital_rotations,\n",
    "                orbital_rotations.conj(),\n",
    "                orbital_rotations,\n",
    "                orbital_rotations.conj(),\n",
    "                # optimize=\"greedy\"\n",
    "            )[:nocc, :nocc, nocc:, nocc:]\n",
    "        )\n",
    "    return reconstructed"
   ]
  },
  {
   "cell_type": "code",
   "execution_count": 7,
   "id": "0735aa46",
   "metadata": {},
   "outputs": [],
   "source": [
    "molecule_name = \"n2\"\n",
    "basis = \"sto-6g\"\n",
    "nelectron, norb = 10, 8\n",
    "\n",
    "\n",
    "molecule_basename = f\"{molecule_name}_{basis}_{nelectron}e{norb}o\"\n",
    "\n",
    "bond_distance = 1.0\n",
    "\n",
    "from molecules_catalog.util import load_molecular_data\n",
    "from pathlib import Path\n",
    "import os\n",
    "from ffsim.variational.util import interaction_pairs_spin_balanced\n",
    "\n",
    "# Get molecular data and molecular Hamiltonian\n",
    "molecules_catalog_dir = \"../../molecules-catalog\"\n",
    "\n",
    "mol_data = load_molecular_data(\n",
    "    f\"{molecule_basename}_d-{bond_distance:.5f}\",\n",
    "    molecules_catalog_dir=molecules_catalog_dir,\n",
    ")\n",
    "norb = mol_data.norb\n",
    "nelec = mol_data.nelec\n",
    "t2 = mol_data.ccsd_t2"
   ]
  },
  {
   "cell_type": "code",
   "execution_count": 8,
   "id": "fa26d151",
   "metadata": {},
   "outputs": [
    {
     "name": "stdout",
     "output_type": "stream",
     "text": [
      "t2 norm: 0.2325443258525995\n",
      "\n",
      "0.21553559262736588\n",
      "0.11822834762201273\n",
      "\n",
      "0.23212473501833156\n",
      "0.11462342079201747\n",
      "loss: 5.9841298593169374e-05\n",
      "0.22374107158110804\n",
      "0.11935705541379081\n"
     ]
    }
   ],
   "source": [
    "import numpy as np\n",
    "diag_coulomb_mats_gradient, _ = np.unstack(operator_gradient.diag_coulomb_mats, axis=1)\n",
    "reconstrcuted_operator_gradient = fun(diag_coulomb_mats_gradient, operator_gradient.orbital_rotations)\n",
    "\n",
    "print(f\"t2 norm: {np.linalg.norm(t2)}\")\n",
    "print()\n",
    "print(np.linalg.norm(reconstrcuted_operator_gradient))\n",
    "print(np.max(np.abs((reconstrcuted_operator_gradient))))\n",
    "print()\n",
    "diag_coulomb_mats_gradient_multi_stage, _ = np.unstack(operator_gradient_multi_stage.diag_coulomb_mats, axis=1)\n",
    "reconstrcuted_operator_gradient_multi_stage = fun(diag_coulomb_mats_gradient_multi_stage, operator_gradient_multi_stage.orbital_rotations)\n",
    "\n",
    "print(np.linalg.norm(reconstrcuted_operator_gradient_multi_stage))\n",
    "print(np.max(np.abs((reconstrcuted_operator_gradient_multi_stage))))\n",
    "diff = reconstrcuted_operator_gradient_multi_stage - t2\n",
    "loss = 0.5 * np.sum(np.abs(diff) ** 2)\n",
    "print(f\"loss: {loss}\")\n",
    "\n",
    "diag_coulomb_mats_numerical_gradient, _ = np.unstack(operator_numerical_gradient.diag_coulomb_mats, axis=1)\n",
    "reconstrcuted_operator_numerical_gradient = fun(diag_coulomb_mats_numerical_gradient, operator_numerical_gradient.orbital_rotations)\n",
    "\n",
    "print(np.linalg.norm(reconstrcuted_operator_numerical_gradient))\n",
    "print(np.max(np.abs((reconstrcuted_operator_numerical_gradient))))"
   ]
  },
  {
   "cell_type": "code",
   "execution_count": 25,
   "id": "16e5ac6f",
   "metadata": {},
   "outputs": [
    {
     "name": "stdout",
     "output_type": "stream",
     "text": [
      "[[0, 0, 0, 0], [0, 0, 1, 1], [1, 1, 0, 0], [1, 1, 1, 1]]\n",
      "[[[[1. 0.]\n",
      "   [0. 2.]]\n",
      "\n",
      "  [[0. 0.]\n",
      "   [0. 0.]]]\n",
      "\n",
      "\n",
      " [[[0. 0.]\n",
      "   [0. 0.]]\n",
      "\n",
      "  [[3. 0.]\n",
      "   [0. 4.]]]]\n",
      "2.0\n"
     ]
    }
   ],
   "source": [
    "import numpy as np\n",
    "import jax.numpy as jnp\n",
    "import jax\n",
    "\n",
    "indices_0 = [[i,i,j,j] for i in range(2) for j in range(2)]\n",
    "indices_1 = [[i,j] for i in range(2) for j in range(2)]\n",
    "\n",
    "print(indices_0)\n",
    "\n",
    "zipped_lists = list(zip(*indices_0))\n",
    "\n",
    "list1 = [sublist[0] for sublist in indices_0]  # Extract elements at index 0\n",
    "list2 = [sublist[1] for sublist in indices_0]  # Extract elements at index 1\n",
    "list3 = [sublist[2] for sublist in indices_0]  # Extract elements at index 1\n",
    "list4 = [sublist[3] for sublist in indices_0]  # Extract elements at index 1\n",
    "\n",
    "indices = np.arange(2)\n",
    "\n",
    "a = np.array([1.0, 2.0, 3.0, 4.0])\n",
    "b = np.zeros((2, 2, 2, 2))\n",
    "\n",
    "b[zipped_lists[0], zipped_lists[1], zipped_lists[2], zipped_lists[3]] = a\n",
    "\n",
    "print(b)\n",
    "\n",
    "print(b[0][0][1][1])\n",
    "# def fun(a):    \n",
    "#     # b[:, :2, :2] = a\n",
    "#     b = b.at[indices].set(a)\n",
    "#     # b = jnp.concatenate([b,b,b,b])\n",
    "#     print(b)\n",
    "#     return jnp.sum(b)\n",
    "\n",
    "\n",
    "\n",
    "# value_and_grad_func = jax.value_and_grad(fun)\n",
    "\n",
    "# value_and_grad_func(a)"
   ]
  },
  {
   "cell_type": "code",
   "execution_count": null,
   "id": "14b08cde",
   "metadata": {},
   "outputs": [],
   "source": []
  }
 ],
 "metadata": {
  "kernelspec": {
   "display_name": ".venv",
   "language": "python",
   "name": "python3"
  },
  "language_info": {
   "codemirror_mode": {
    "name": "ipython",
    "version": 3
   },
   "file_extension": ".py",
   "mimetype": "text/x-python",
   "name": "python",
   "nbconvert_exporter": "python",
   "pygments_lexer": "ipython3",
   "version": "3.10.12"
  }
 },
 "nbformat": 4,
 "nbformat_minor": 5
}
