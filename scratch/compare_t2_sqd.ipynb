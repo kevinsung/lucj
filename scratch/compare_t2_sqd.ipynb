{
 "cells": [
  {
   "cell_type": "code",
   "execution_count": 2,
   "id": "cb62bf4b",
   "metadata": {},
   "outputs": [],
   "source": [
    "import pickle\n",
    "\n",
    "n_reps = 4\n",
    "\n",
    "filepath = f\"n2_sto-6g_10e8o_{n_reps}_gradient.pickle\"\n",
    "with open(filepath, \"rb\") as f:\n",
    "    data_gradient = pickle.load(f)\n",
    "\n",
    "\n",
    "filepath = f\"n2_sto-6g_10e8o_{n_reps}_gradient-t2_dagger.pickle\"\n",
    "with open(filepath, \"rb\") as f:\n",
    "    data_gradient_dagger = pickle.load(f)\n",
    "\n",
    "filepath = f\"n2_sto-6g_10e8o_{n_reps}_gradient_multi_stage.pickle\"\n",
    "with open(filepath, \"rb\") as f:\n",
    "    data_gradient_multi_stage = pickle.load(f)"
   ]
  },
  {
   "cell_type": "code",
   "execution_count": 3,
   "id": "012af8bd",
   "metadata": {},
   "outputs": [
    {
     "name": "stdout",
     "output_type": "stream",
     "text": [
      "energy\n",
      "data_gradient: -108.575632043211\n",
      "data_gradient_dagger: -108.4639160716306\n",
      "data_gradient_gradient_multi_stage: -106.39931406103938\n"
     ]
    }
   ],
   "source": [
    "print(\"energy\")\n",
    "print(f\"data_gradient: {data_gradient['energy']}\")\n",
    "print(f\"data_gradient_dagger: {data_gradient_dagger['energy']}\")\n",
    "print(f\"data_gradient_gradient_multi_stage: {data_gradient_multi_stage['energy']}\")"
   ]
  },
  {
   "cell_type": "code",
   "execution_count": 4,
   "id": "c5d803b6",
   "metadata": {},
   "outputs": [
    {
     "name": "stdout",
     "output_type": "stream",
     "text": [
      "error\n",
      "data_gradient: 0.02035530776394978\n",
      "data_gradient_dagger: 0.13207127934434482\n",
      "data_gradient_gradient_multi_stage: 2.1966732899355748\n"
     ]
    }
   ],
   "source": [
    "print(\"error\")\n",
    "print(f\"data_gradient: {data_gradient['error']}\")\n",
    "print(f\"data_gradient_dagger: {data_gradient_dagger['error']}\")\n",
    "print(f\"data_gradient_gradient_multi_stage: {data_gradient_multi_stage['error']}\")"
   ]
  },
  {
   "cell_type": "code",
   "execution_count": 5,
   "id": "78046d4b",
   "metadata": {},
   "outputs": [
    {
     "name": "stdout",
     "output_type": "stream",
     "text": [
      "final_loss\n",
      "data_gradient: 0.0038108772820247333\n",
      "data_gradient_dagger: 0.05763456970453262\n",
      "data_gradient_gradient_multi_stage: 5.9841466281795874e-05\n"
     ]
    }
   ],
   "source": [
    "print(\"final_loss\")\n",
    "print(f\"data_gradient: {data_gradient['final_loss']}\")\n",
    "print(f\"data_gradient_dagger: {data_gradient_dagger['final_loss']}\")\n",
    "print(f\"data_gradient_gradient_multi_stage: {data_gradient_multi_stage['final_loss']}\")"
   ]
  },
  {
   "cell_type": "code",
   "execution_count": 6,
   "id": "d350dbc8",
   "metadata": {},
   "outputs": [],
   "source": [
    "operator_gradient = data_gradient[\"operator\"]\n",
    "operator_gradient_dagger = data_gradient_dagger[\"operator\"]\n",
    "operator_gradient_multi_stage = data_gradient_multi_stage[\"operator\"]"
   ]
  },
  {
   "cell_type": "code",
   "execution_count": 7,
   "id": "c9e427f2",
   "metadata": {},
   "outputs": [],
   "source": [
    "from opt_einsum import contract\n",
    "\n",
    "nocc = 5\n",
    "\n",
    "\n",
    "def fun(diag_coulomb_mats, orbital_rotations):\n",
    "    reconstructed = (\n",
    "        1j\n",
    "        * contract(\n",
    "            \"mpq,map,mip,mbq,mjq->ijab\",\n",
    "            diag_coulomb_mats,\n",
    "            orbital_rotations,\n",
    "            orbital_rotations.conj(),\n",
    "            orbital_rotations,\n",
    "            orbital_rotations.conj(),\n",
    "            # optimize=\"greedy\"\n",
    "        )[:nocc, :nocc, nocc:, nocc:]\n",
    "    )\n",
    "    return reconstructed"
   ]
  },
  {
   "cell_type": "code",
   "execution_count": 2,
   "id": "0735aa46",
   "metadata": {},
   "outputs": [
    {
     "name": "stdout",
     "output_type": "stream",
     "text": [
      "(5, 5)\n"
     ]
    }
   ],
   "source": [
    "molecule_name = \"n2\"\n",
    "basis = \"sto-6g\"\n",
    "nelectron, norb = 10, 8\n",
    "\n",
    "\n",
    "molecule_basename = f\"{molecule_name}_{basis}_{nelectron}e{norb}o\"\n",
    "\n",
    "bond_distance = 1.0\n",
    "\n",
    "from molecules_catalog.util import load_molecular_data\n",
    "from pathlib import Path\n",
    "import os\n",
    "from ffsim.variational.util import interaction_pairs_spin_balanced\n",
    "\n",
    "# Get molecular data and molecular Hamiltonian\n",
    "molecules_catalog_dir = \"../../molecules-catalog\"\n",
    "\n",
    "mol_data = load_molecular_data(\n",
    "    f\"{molecule_basename}_d-{bond_distance:.5f}\",\n",
    "    molecules_catalog_dir=molecules_catalog_dir,\n",
    ")\n",
    "norb = mol_data.norb\n",
    "nelec = mol_data.nelec\n",
    "t2 = mol_data.ccsd_t2\n",
    "print(nelec)"
   ]
  },
  {
   "cell_type": "code",
   "execution_count": 9,
   "id": "fa26d151",
   "metadata": {},
   "outputs": [
    {
     "name": "stdout",
     "output_type": "stream",
     "text": [
      "t2 norm: 0.2325443258525995\n",
      "\n",
      "0.21553559262736588\n",
      "0.11822834762201273\n",
      "\n",
      "0.23212473501833156\n",
      "0.11462342079201747\n",
      "loss: 5.9841298593169374e-05\n"
     ]
    }
   ],
   "source": [
    "import numpy as np\n",
    "\n",
    "diag_coulomb_mats_gradient, _ = np.unstack(operator_gradient.diag_coulomb_mats, axis=1)\n",
    "reconstrcuted_operator_gradient = fun(\n",
    "    diag_coulomb_mats_gradient, operator_gradient.orbital_rotations\n",
    ")\n",
    "\n",
    "print(f\"t2 norm: {np.linalg.norm(t2)}\")\n",
    "print()\n",
    "print(np.linalg.norm(reconstrcuted_operator_gradient))\n",
    "print(np.max(np.abs((reconstrcuted_operator_gradient))))\n",
    "print()\n",
    "diag_coulomb_mats_gradient_multi_stage, _ = np.unstack(\n",
    "    operator_gradient_multi_stage.diag_coulomb_mats, axis=1\n",
    ")\n",
    "reconstrcuted_operator_gradient_multi_stage = fun(\n",
    "    diag_coulomb_mats_gradient_multi_stage,\n",
    "    operator_gradient_multi_stage.orbital_rotations,\n",
    ")\n",
    "\n",
    "print(np.linalg.norm(reconstrcuted_operator_gradient_multi_stage))\n",
    "print(np.max(np.abs((reconstrcuted_operator_gradient_multi_stage))))\n",
    "diff = reconstrcuted_operator_gradient_multi_stage - t2\n",
    "loss = 0.5 * np.sum(np.abs(diff) ** 2)\n",
    "print(f\"loss: {loss}\")"
   ]
  },
  {
   "cell_type": "code",
   "execution_count": 11,
   "id": "16e5ac6f",
   "metadata": {},
   "outputs": [],
   "source": [
    "# Compute final state\n",
    "import ffsim\n",
    "\n",
    "reference_state = ffsim.hartree_fock_state(norb, nelec)\n",
    "final_state_gradient = ffsim.apply_unitary(\n",
    "    reference_state, operator_gradient, norb=norb, nelec=nelec\n",
    ")\n",
    "final_state_gradient_dagger = ffsim.apply_unitary(\n",
    "    reference_state, operator_gradient_dagger, norb=norb, nelec=nelec\n",
    ")\n",
    "final_state_multi_stage = ffsim.apply_unitary(\n",
    "    reference_state, operator_gradient_multi_stage, norb=norb, nelec=nelec\n",
    ")"
   ]
  },
  {
   "cell_type": "code",
   "execution_count": 14,
   "id": "e20a5a65",
   "metadata": {},
   "outputs": [
    {
     "name": "stdout",
     "output_type": "stream",
     "text": [
      "sqd energy loss from gradient: 0.01234564509971392\n",
      "sqd energy loss from gradient_dagger: 0.018334499964836937\n",
      "sqd energy loss from multi_stage: 3.355100182034221e-05\n"
     ]
    }
   ],
   "source": [
    "# Run SQD\n",
    "from qiskit.primitives import BitArray\n",
    "from qiskit_addon_sqd.fermion import diagonalize_fermionic_hamiltonian, solve_sci_batch\n",
    "\n",
    "shots = 100_000\n",
    "samples_per_batch = 100\n",
    "n_batches = 3\n",
    "energy_tol = 1e-5\n",
    "occupancies_tol = 1e-3\n",
    "max_iterations = 100\n",
    "symmetrize_spin = True\n",
    "carryover_threshold = 1e-3\n",
    "entropy = 0\n",
    "\n",
    "mol_ham = mol_data.hamiltonian\n",
    "\n",
    "final_states = [\n",
    "    final_state_gradient,\n",
    "    final_state_gradient_dagger,\n",
    "    final_state_multi_stage,\n",
    "]\n",
    "names = [\"gradient\", \"gradient_dagger\", \"multi_stage\"]\n",
    "for final_state, name in zip(final_states, names):\n",
    "    rng = np.random.default_rng(entropy)\n",
    "    samples = ffsim.sample_state_vector(\n",
    "        final_state,\n",
    "        norb=norb,\n",
    "        nelec=nelec,\n",
    "        shots=shots,\n",
    "        seed=rng,\n",
    "        bitstring_type=ffsim.BitstringType.INT,\n",
    "    )\n",
    "    bit_array = BitArray.from_samples(samples, num_bits=2 * norb)\n",
    "    result = diagonalize_fermionic_hamiltonian(\n",
    "        mol_ham.one_body_tensor,\n",
    "        mol_ham.two_body_tensor,\n",
    "        bit_array,\n",
    "        samples_per_batch=samples_per_batch,\n",
    "        norb=norb,\n",
    "        nelec=nelec,\n",
    "        num_batches=n_batches,\n",
    "        energy_tol=energy_tol,\n",
    "        occupancies_tol=occupancies_tol,\n",
    "        max_iterations=max_iterations,\n",
    "        sci_solver=solve_sci_batch,\n",
    "        symmetrize_spin=symmetrize_spin,\n",
    "        carryover_threshold=carryover_threshold,\n",
    "        seed=rng,\n",
    "    )\n",
    "    energy = result.energy + mol_data.core_energy\n",
    "    sci_state = result.sci_state\n",
    "    spin_squared = sci_state.spin_square()\n",
    "    error = energy - mol_data.fci_energy\n",
    "    print(f\"sqd energy loss from {name}: {error}\")"
   ]
  },
  {
   "cell_type": "code",
   "execution_count": null,
   "id": "73c70c27",
   "metadata": {},
   "outputs": [
    {
     "name": "stdout",
     "output_type": "stream",
     "text": [
      "{'energy': np.float64(-108.98202108022255), 'error': np.float64(0.06465069729802053), 'spin_squared': np.float64(8.240600677639622e-30), 'entropy': np.float64(0.6769253824916961), 'n_reps': 4}\n",
      "{'energy': np.float64(-108.7514498549557), 'error': np.float64(0.29522192256487756), 'spin_squared': np.float64(1.4170653773900526e-29), 'entropy': np.float64(1.904546204865731)}\n",
      "{'energy': np.float64(-108.80808128976219), 'error': np.float64(0.23859048775838687), 'spin_squared': np.float64(1.3767113217295944e-29), 'entropy': np.float64(1.864401083904107)}\n",
      "{'energy': np.float64(-108.75679145243078), 'error': np.float64(0.289880325089797), 'spin_squared': np.float64(1.431655016029493e-29), 'entropy': np.float64(1.8726318761490581)}\n",
      "{'energy': np.float64(-108.75443807695096), 'error': np.float64(0.29223370056961073), 'spin_squared': np.float64(1.3382386901810966e-29), 'entropy': np.float64(1.8913355719259273)}\n"
     ]
    }
   ],
   "source": [
    "import pickle\n",
    "\n",
    "n_reps = 4\n",
    "\n",
    "filepath = f\"../lucj/lucj_initial_params/n2_6-31g_10e16o/bond_distance-1.00000/connectivity-all-to-all/n_reps-{n_reps}/with_final_orbital_rotation-True/data.pickle\"\n",
    "\n",
    "with open(filepath, \"rb\") as f:\n",
    "    data_ref = pickle.load(f)\n",
    "\n",
    "data_type = \"\"\n",
    "filepath = f\"../lucj/n2_6-31g_10e16o/bond_distance-1.00000/connectivity-all-to-all/n_reps-{n_reps}/with_final_orbital_rotation-True/multi_stage_optimization-True/begin_reps-20/step-2/{data_type}data.pickle\"\n",
    "with open(filepath, \"rb\") as f:\n",
    "    data = pickle.load(f)\n",
    "\n",
    "data_type = \"asc_\"\n",
    "filepath = f\"../lucj/n2_6-31g_10e16o/bond_distance-1.00000/connectivity-all-to-all/n_reps-{n_reps}/with_final_orbital_rotation-True/multi_stage_optimization-True/begin_reps-20/step-2/{data_type}data.pickle\"\n",
    "with open(filepath, \"rb\") as f:\n",
    "    data_acs = pickle.load(f)\n",
    "\n",
    "data_type = \"des_\"\n",
    "filepath = f\"../lucj/n2_6-31g_10e16o/bond_distance-1.00000/connectivity-all-to-all/n_reps-{n_reps}/with_final_orbital_rotation-True/multi_stage_optimization-True/begin_reps-20/step-2/{data_type}data.pickle\"\n",
    "with open(filepath, \"rb\") as f:\n",
    "    data_des = pickle.load(f)\n",
    "\n",
    "data_type = \"rand_\"\n",
    "filepath = f\"../lucj/n2_6-31g_10e16o/bond_distance-1.00000/connectivity-all-to-all/n_reps-{n_reps}/with_final_orbital_rotation-True/multi_stage_optimization-True/begin_reps-20/step-2/{data_type}data.pickle\"\n",
    "with open(filepath, \"rb\") as f:\n",
    "    data_rand = pickle.load(f)\n",
    "\n",
    "print(data_ref)\n",
    "print(data)\n",
    "print(data_acs)\n",
    "print(data_des)\n",
    "print(data_rand)"
   ]
  },
  {
   "cell_type": "code",
   "execution_count": 9,
   "id": "3c162adf",
   "metadata": {},
   "outputs": [
    {
     "name": "stdout",
     "output_type": "stream",
     "text": [
      "{'energy': np.float64(-108.9877860827798), 'error': np.float64(0.058885694740766326), 'spin_squared': np.float64(1.236701814148147e-29), 'entropy': np.float64(0.6965090899314161), 'n_reps': 6}\n",
      "{'energy': np.float64(-108.76157524075484), 'error': np.float64(0.2850965367657352), 'spin_squared': np.float64(2.0371654898623102e-29), 'entropy': np.float64(1.8771199112447086)}\n",
      "{'energy': np.float64(-108.76993317768303), 'error': np.float64(0.2767385998375431), 'spin_squared': np.float64(2.1286679512423744e-29), 'entropy': np.float64(1.8644891142283133)}\n",
      "{'energy': np.float64(-108.7905509425483), 'error': np.float64(0.256120834972279), 'spin_squared': np.float64(2.129115038727032e-29), 'entropy': np.float64(1.8168608295545239)}\n",
      "{'energy': np.float64(-108.7867676360835), 'error': np.float64(0.25990414143707596), 'spin_squared': np.float64(2.0714287490578974e-29), 'entropy': np.float64(1.841821218934379)}\n"
     ]
    }
   ],
   "source": [
    "import pickle\n",
    "\n",
    "n_reps = 6\n",
    "\n",
    "filepath = f\"../lucj/lucj_initial_params/n2_6-31g_10e16o/bond_distance-1.00000/connectivity-all-to-all/n_reps-{n_reps}/with_final_orbital_rotation-True/data.pickle\"\n",
    "with open(filepath, \"rb\") as f:\n",
    "    data_ref = pickle.load(f)\n",
    "\n",
    "data_type = \"\"\n",
    "filepath = f\"../lucj/n2_6-31g_10e16o/bond_distance-1.00000/connectivity-all-to-all/n_reps-{n_reps}/with_final_orbital_rotation-True/multi_stage_optimization-True/begin_reps-20/step-2/{data_type}data.pickle\"\n",
    "with open(filepath, \"rb\") as f:\n",
    "    data = pickle.load(f)\n",
    "\n",
    "data_type = \"asc_\"\n",
    "filepath = f\"../lucj/n2_6-31g_10e16o/bond_distance-1.00000/connectivity-all-to-all/n_reps-{n_reps}/with_final_orbital_rotation-True/multi_stage_optimization-True/begin_reps-20/step-2/{data_type}data.pickle\"\n",
    "with open(filepath, \"rb\") as f:\n",
    "    data_acs = pickle.load(f)\n",
    "\n",
    "data_type = \"des_\"\n",
    "filepath = f\"../lucj/n2_6-31g_10e16o/bond_distance-1.00000/connectivity-all-to-all/n_reps-{n_reps}/with_final_orbital_rotation-True/multi_stage_optimization-True/begin_reps-20/step-2/{data_type}data.pickle\"\n",
    "with open(filepath, \"rb\") as f:\n",
    "    data_des = pickle.load(f)\n",
    "\n",
    "data_type = \"rand_\"\n",
    "filepath = f\"../lucj/n2_6-31g_10e16o/bond_distance-1.00000/connectivity-all-to-all/n_reps-{n_reps}/with_final_orbital_rotation-True/multi_stage_optimization-True/begin_reps-20/step-2/{data_type}data.pickle\"\n",
    "with open(filepath, \"rb\") as f:\n",
    "    data_rand = pickle.load(f)\n",
    "\n",
    "print(data_ref)\n",
    "print(data)\n",
    "print(data_acs)\n",
    "print(data_des)\n",
    "print(data_rand)"
   ]
  },
  {
   "cell_type": "code",
   "execution_count": 3,
   "id": "1b8d3e71",
   "metadata": {},
   "outputs": [
    {
     "name": "stdout",
     "output_type": "stream",
     "text": [
      "{'init_loss': Array(0.00214424, dtype=float32), 'final_loss': Array(0.00026353, dtype=float32)}\n"
     ]
    }
   ],
   "source": [
    "import pickle\n",
    "\n",
    "filepath = \"../lucj/n2_6-31g_10e16o/bond_distance-1.20000/connectivity-all-to-all/n_reps-5/with_final_orbital_rotation-True/multi_stage_optimization-True/begin_reps-20/step-2/opt_data.pickle\"\n",
    "with open(filepath, \"rb\") as f:\n",
    "    data = pickle.load(f)\n",
    "\n",
    "print(data)"
   ]
  },
  {
   "cell_type": "code",
   "execution_count": 11,
   "id": "d127c8a4",
   "metadata": {},
   "outputs": [
    {
     "name": "stdout",
     "output_type": "stream",
     "text": [
      "BitArray(<shape=(), num_shots=6000, num_bits=16>)\n",
      "BitArray(<shape=(), num_shots=10, num_bits=16>)\n"
     ]
    }
   ],
   "source": [
    "import pickle\n",
    "\n",
    "file = \"../lucj/n2_sto-6g_10e8o/bond_distance-1.20000/connectivity-heavy-hex/n_reps-1/with_final_orbital_rotation-True/multi_stage_optimization-True/begin_reps-20/step-2/hardware_sample.pickle\"\n",
    "with open(file, \"rb\") as f:\n",
    "    data = pickle.load(f)\n",
    "print(data)\n",
    "\n",
    "data = data[:10]\n",
    "\n",
    "print(data)"
   ]
  },
  {
   "cell_type": "code",
   "execution_count": 4,
   "id": "6c1ecf02",
   "metadata": {},
   "outputs": [
    {
     "name": "stdout",
     "output_type": "stream",
     "text": [
      "{'energy': np.float64(-109.09370079472708), 'error': np.float64(0.004430025305794061), 'spin_squared': np.float64(0.0018572572652080501), 'sci_vec_shape': (500, 500)}\n",
      "0.0070952061134192945\n"
     ]
    }
   ],
   "source": [
    "import pickle\n",
    "\n",
    "file = \"/media/storage/WanHsuan.Lin/n2_6-31g_10e16o/bond_distance-1.20000/connectivity-heavy-hex/n_reps-1/with_final_orbital_rotation-True/multi_stage_optimization-True/begin_reps-20/step-2/shots-100000/samples_per_batch-1000/n_batches-3/energy_tol-1e-05/occupancies_tol-0.001/carryover_threshold-0.001/max_iterations-100/symmetrize_spin-True/entropy-0/max_dim-500/hardware_sqd_data.pickle\"\n",
    "with open(file, \"rb\") as f:\n",
    "    data = pickle.load(f)\n",
    "print(data)\n",
    "\n",
    "quimb_opt_energy_init = -109.0715272665909\n",
    "quimb_opt_energy = -109.07862247270432\n",
    "print(quimb_opt_energy_init - quimb_opt_energy)"
   ]
  },
  {
   "cell_type": "code",
   "execution_count": null,
   "id": "1db72f0e",
   "metadata": {},
   "outputs": [
    {
     "name": "stdout",
     "output_type": "stream",
     "text": [
      " message: The callback requested to stop the optimization procedure\n",
      " success: True\n",
      "  status: 3\n",
      "     fun: -109.08006822647131\n",
      "       x: [ 8.992e-01 -4.035e-01 ...  0.000e+00  0.000e+00]\n",
      "     nit: 0\n",
      "   maxcv: 0.0\n",
      "    nfev: 4\n"
     ]
    }
   ],
   "source": [
    "import pickle\n",
    "\n",
    "file = \"/media/storage/WanHsuan.Lin/lucj_sqd_quimb/n2_6-31g_10e16o/bond_distance-1.20000/connectivity-heavy-hex/n_reps-1/with_final_orbital_rotation-True/maxiter-25/shots-100000/samples_per_batch-1000/n_batches-3/energy_tol-1e-05/occupancies_tol-0.001/carryover_threshold-0.001/max_iterations-100/symmetrize_spin-True/entropy-0/max_dim-500/max_bond-10/cutoff-0.001/perm_mps-True/seed-0/data.pickle\"\n",
    "with open(file, \"rb\") as f:\n",
    "    data = pickle.load(f)\n",
    "print(data)"
   ]
  },
  {
   "cell_type": "code",
   "execution_count": null,
   "id": "bf08a6ad",
   "metadata": {},
   "outputs": [
    {
     "name": "stdout",
     "output_type": "stream",
     "text": [
      "{'energy': -116.40176190890885, 'error': 0.09683844623194204, 'spin_squared': np.float64(4.913885505353448), 'sci_vec_shape': (500, 500)}\n"
     ]
    }
   ],
   "source": [
    "import pickle\n",
    "\n",
    "file = \"/media/storage/WanHsuan.Lin/fe2s2_30e20o/random_sample/valid_string_only/shots-100000/samples_per_batch-1000/n_batches-3/energy_tol-1e-05/occupancies_tol-0.001/carryover_threshold-0.001/max_iterations-100/symmetrize_spin-True/entropy-0/max_dim-500/sqd_data.pickle\"\n",
    "with open(file, \"rb\") as f:\n",
    "    data = pickle.load(f)\n",
    "print(data)"
   ]
  },
  {
   "cell_type": "code",
   "execution_count": 1,
   "id": "c8112984",
   "metadata": {},
   "outputs": [
    {
     "name": "stdout",
     "output_type": "stream",
     "text": [
      "{'energy': np.float64(-109.09173272707557), 'error': np.float64(0.006398092957311974), 'spin_squared': np.float64(0.002349151101755644), 'sci_vec_shape': (274, 274), 'history_energy': [[np.float64(-109.09173272707557), np.float64(-109.09173272707557), np.float64(-109.09173272707557), np.float64(-109.09173272707557), np.float64(-109.09173272707557), np.float64(-109.09173272707557), np.float64(-109.09173272707557), np.float64(-109.09173272707557), np.float64(-109.09173272707557), np.float64(-109.09173272707557)]], 'history_sci_vec_shape': [[(274, 274), (274, 274), (274, 274), (274, 274), (274, 274), (274, 274), (274, 274), (274, 274), (274, 274), (274, 274)]]}\n"
     ]
    }
   ],
   "source": [
    "import pickle\n",
    "\n",
    "file = \"/media/storage/WanHsuan.Lin/n2_6-31g_10e16o/bond_distance-1.20000/connectivity-all-to-all/n_reps-100/with_final_orbital_rotation-True/truncated/shots-100000/samples_per_batch-4000/n_batches-10/energy_tol-1e-05/occupancies_tol-0.001/carryover_threshold-0.001/max_iterations-1/symmetrize_spin-True/entropy-0/max_dim-4000/sqd_data.pickle\"\n",
    "\n",
    "with open(file, \"rb\") as f:\n",
    "    data = pickle.load(f)\n",
    "print(data)"
   ]
  },
  {
   "cell_type": "code",
   "execution_count": 1,
   "id": "92e98e3d",
   "metadata": {},
   "outputs": [
    {
     "name": "stdout",
     "output_type": "stream",
     "text": [
      "{'energy': np.float64(-109.09725338156949), 'error': np.float64(0.0008774384633909449), 'spin_squared': np.float64(0.0004468365159652513), 'sci_vec_shape': (2361, 2361)}\n"
     ]
    }
   ],
   "source": [
    "import pickle\n",
    "\n",
    "file = \"/media/storage/WanHsuan.Lin/n2_6-31g_10e16o/bond_distance-1.20000/connectivity-heavy-hex/n_reps-1/with_final_orbital_rotation-True/multi_stage_optimization-True/begin_reps-20/step-2/shots-100000/samples_per_batch-4000/n_batches-10/energy_tol-1e-05/occupancies_tol-0.001/carryover_threshold-0.001/max_iterations-1/symmetrize_spin-True/entropy-0/max_dim-4000/sqd_data.pickle\"\n",
    "file = \"/media/storage/WanHsuan.Lin/n2_6-31g_10e16o/bond_distance-1.20000/connectivity-heavy-hex/n_reps-1/with_final_orbital_rotation-True/multi_stage_optimization-True/begin_reps-20/step-2/shots-100000/samples_per_batch-4000/n_batches-3/energy_tol-1e-05/occupancies_tol-0.001/carryover_threshold-0.001/max_iterations-100/symmetrize_spin-True/entropy-0/max_dim-4000/hardware_sqd_data.pickle\"\n",
    "file = \"/media/storage/WanHsuan.Lin/n2_6-31g_10e16o/bond_distance-1.20000/connectivity-heavy-hex/n_reps-1/with_final_orbital_rotation-True/truncated/shots-100000/samples_per_batch-4000/n_batches-3/energy_tol-1e-05/occupancies_tol-0.001/carryover_threshold-0.001/max_iterations-100/symmetrize_spin-True/entropy-0/max_dim-4000/hardware_sqd_data.pickle\"\n",
    "with open(file, \"rb\") as f:\n",
    "    data = pickle.load(f)\n",
    "print(data)\n",
    "\n",
    "quimb_energy = -109.06259827427564"
   ]
  },
  {
   "cell_type": "code",
   "execution_count": null,
   "id": "a5fec1a3",
   "metadata": {},
   "outputs": [
    {
     "name": "stdout",
     "output_type": "stream",
     "text": [
      "{'energy': -115.99817083380935, 'error': 0.5004295213314407, 'spin_squared': np.float64(4.295637625971987), 'sci_vec_shape': (929, 929), 'history_energy': [[-115.9914404382526, -115.9190156832594, -115.98523054711447, -115.95370093080437, -115.9584855455556, -115.96508767122359, -115.99790246066303, -115.99817083380935, -115.96307630785326, -115.93596585640309]], 'history_sci_vec_shape': [[(904, 904), (920, 920), (914, 914), (911, 911), (930, 930), (893, 893), (921, 921), (929, 929), (893, 893), (917, 917)]]}\n",
      "-115.99817083380935\n",
      "-115.9190156832594\n",
      "0.5792734236815704\n",
      "0.6074382661906412\n"
     ]
    }
   ],
   "source": [
    "import pickle\n",
    "import numpy as np\n",
    "\n",
    "file = \"/media/storage/WanHsuan.Lin/fe2s2_30e20o/connectivity-heavy-hex/n_reps-1/with_final_orbital_rotation-True/multi_stage_optimization-True/begin_reps-20/step-2/shots-100000/samples_per_batch-4000/n_batches-10/energy_tol-1e-05/occupancies_tol-0.001/carryover_threshold-0.001/max_iterations-1/symmetrize_spin-True/entropy-0/max_dim-4000/sqd_data.pickle\"\n",
    "with open(file, \"rb\") as f:\n",
    "    data = pickle.load(f)\n",
    "print(data)\n",
    "\n",
    "history_energy = data[\"history_energy\"]\n",
    "print(np.min(history_energy))\n",
    "print(np.max(history_energy))\n",
    "\n",
    "quimb_energy = -116.02633567631842\n",
    "\n",
    "dmrg_energy = -116.6056091\n",
    "\n",
    "print(quimb_energy - dmrg_energy)\n",
    "print(data[\"energy\"] - dmrg_energy)"
   ]
  },
  {
   "cell_type": "code",
   "execution_count": 1,
   "id": "262b9a0a",
   "metadata": {},
   "outputs": [
    {
     "name": "stdout",
     "output_type": "stream",
     "text": [
      "{'energy': -115.99817083380935, 'error': 0.5004295213314407, 'spin_squared': np.float64(4.295637625971987), 'sci_vec_shape': (929, 929), 'history_energy': [[-115.9914404382526, -115.9190156832594, -115.98523054711447, -115.95370093080437, -115.9584855455556, -115.96508767122359, -115.99790246066303, -115.99817083380935, -115.96307630785326, -115.93596585640309]], 'history_sci_vec_shape': [[(904, 904), (920, 920), (914, 914), (911, 911), (930, 930), (893, 893), (921, 921), (929, 929), (893, 893), (917, 917)]]}\n",
      "-115.99817083380935\n",
      "-115.9190156832594\n",
      "0.5792734236815704\n",
      "0.6074382661906412\n"
     ]
    }
   ],
   "source": [
    "import pickle\n",
    "import numpy as np\n",
    "\n",
    "file = \"/media/storage/WanHsuan.Lin/fe2s2_30e20o/connectivity-heavy-hex/n_reps-1/with_final_orbital_rotation-True/multi_stage_optimization-True/begin_reps-20/step-2/shots-100000/samples_per_batch-4000/n_batches-10/energy_tol-1e-05/occupancies_tol-0.001/carryover_threshold-0.001/max_iterations-1/symmetrize_spin-True/entropy-0/max_dim-4000/sqd_data.pickle\"\n",
    "with open(file, \"rb\") as f:\n",
    "    data = pickle.load(f)\n",
    "print(data)\n",
    "\n",
    "history_energy = data[\"history_energy\"]\n",
    "print(np.min(history_energy))\n",
    "print(np.max(history_energy))\n",
    "\n",
    "quimb_energy = -116.02633567631842\n",
    "\n",
    "dmrg_energy = -116.6056091\n",
    "\n",
    "print(quimb_energy - dmrg_energy)\n",
    "print(data[\"energy\"] - dmrg_energy)"
   ]
  },
  {
   "cell_type": "code",
   "execution_count": null,
   "id": "48499da3",
   "metadata": {},
   "outputs": [
    {
     "name": "stdout",
     "output_type": "stream",
     "text": [
      "{'energy': -116.05586221869093, 'error': 0.5461591064471065, 'spin_squared': np.float64(3.784865078126809), 'sci_vec_shape': (932, 932), 'history_energy': [[-116.01390479649743, -115.97461668275372, -116.00279912304097, -116.05586221869093, -116.05266024374241, -116.04944027272991, -116.03523228655342, -116.05515557569062, -116.04772135326193, -116.02697666982161]], 'history_sci_vec_shape': [[(902, 902), (913, 913), (929, 929), (932, 932), (919, 919), (927, 927), (897, 897), (917, 917), (918, 918), (939, 939)]]}\n",
      "{'energy': -116.05336313868156, 'error': 0.5486581864564783, 'spin_squared': np.float64(3.99827495647734), 'sci_vec_shape': (1007, 1007), 'history_energy': [[-115.9684471973452, -115.96415744279983, -115.9449267282708, -116.01862050100735, -116.00460806608366, -116.05336313868156, -116.02029765220134, -116.0227461690876, -116.02633567624375, -116.0089715625363]], 'history_sci_vec_shape': [[(1024, 1024), (1021, 1021), (983, 983), (998, 998), (966, 966), (1007, 1007), (970, 970), (995, 995), (987, 987), (987, 987)]]}\n"
     ]
    }
   ],
   "source": [
    "import pickle\n",
    "import numpy as np\n",
    "\n",
    "file = \"/media/storage/WanHsuan.Lin/fe2s2_30e20o/connectivity-heavy-hex/n_reps-1/with_final_orbital_rotation-True/multi_stage_optimization-True/begin_reps-20/step-2/quimb/maxiter-25/shots-50000/samples_per_batch-4000/n_batches-10/energy_tol-1e-05/occupancies_tol-0.001/carryover_threshold-0.001/max_iterations-1/symmetrize_spin-True/entropy-0/max_dim-4000/max_bond-100/cutoff-1e-10/perm_mps-False/seed-0/sqd_data.pickle\"\n",
    "with open(file, \"rb\") as f:\n",
    "    data = pickle.load(f)\n",
    "print(data)\n",
    "\n",
    "file = \"/media/storage/WanHsuan.Lin/fe2s2_30e20o/connectivity-heavy-hex/n_reps-1/with_final_orbital_rotation-True/multi_stage_optimization-True/begin_reps-20/step-2/quimb/maxiter-25/shots-10000/samples_per_batch-4000/n_batches-10/energy_tol-1e-05/occupancies_tol-0.001/carryover_threshold-0.001/max_iterations-1/symmetrize_spin-True/entropy-0/max_dim-4000/max_bond-100/cutoff-1e-10/perm_mps-False/seed-0/sqd_data.pickle\"\n",
    "with open(file, \"rb\") as f:\n",
    "    data = pickle.load(f)\n",
    "print(data)"
   ]
  },
  {
   "cell_type": "code",
   "execution_count": null,
   "id": "65813e0e",
   "metadata": {},
   "outputs": [],
   "source": []
  }
 ],
 "metadata": {
  "kernelspec": {
   "display_name": ".venv",
   "language": "python",
   "name": "python3"
  },
  "language_info": {
   "codemirror_mode": {
    "name": "ipython",
    "version": 3
   },
   "file_extension": ".py",
   "mimetype": "text/x-python",
   "name": "python",
   "nbconvert_exporter": "python",
   "pygments_lexer": "ipython3",
   "version": "3.10.12"
  }
 },
 "nbformat": 4,
 "nbformat_minor": 5
}
