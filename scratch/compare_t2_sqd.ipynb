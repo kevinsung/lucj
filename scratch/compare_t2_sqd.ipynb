{
 "cells": [
  {
   "cell_type": "code",
   "execution_count": 2,
   "id": "cb62bf4b",
   "metadata": {},
   "outputs": [],
   "source": [
    "import pickle\n",
    "\n",
    "n_reps = 4\n",
    "\n",
    "filepath = f\"n2_sto-6g_10e8o_{n_reps}_gradient.pickle\"\n",
    "with open(filepath, \"rb\") as f:\n",
    "    data_gradient = pickle.load(f)\n",
    "\n",
    "\n",
    "filepath = f\"n2_sto-6g_10e8o_{n_reps}_gradient-t2_dagger.pickle\"\n",
    "with open(filepath, \"rb\") as f:\n",
    "    data_gradient_dagger = pickle.load(f)\n",
    "\n",
    "filepath = f\"n2_sto-6g_10e8o_{n_reps}_gradient_multi_stage.pickle\"\n",
    "with open(filepath, \"rb\") as f:\n",
    "    data_gradient_multi_stage = pickle.load(f)\n",
    "\n"
   ]
  },
  {
   "cell_type": "code",
   "execution_count": 3,
   "id": "012af8bd",
   "metadata": {},
   "outputs": [
    {
     "name": "stdout",
     "output_type": "stream",
     "text": [
      "energy\n",
      "data_gradient: -108.575632043211\n",
      "data_gradient_dagger: -108.4639160716306\n",
      "data_gradient_gradient_multi_stage: -106.39931406103938\n"
     ]
    }
   ],
   "source": [
    "print('energy')\n",
    "print(f\"data_gradient: {data_gradient['energy']}\")\n",
    "print(f\"data_gradient_dagger: {data_gradient_dagger['energy']}\")\n",
    "print(f\"data_gradient_gradient_multi_stage: {data_gradient_multi_stage['energy']}\")"
   ]
  },
  {
   "cell_type": "code",
   "execution_count": 4,
   "id": "c5d803b6",
   "metadata": {},
   "outputs": [
    {
     "name": "stdout",
     "output_type": "stream",
     "text": [
      "error\n",
      "data_gradient: 0.02035530776394978\n",
      "data_gradient_dagger: 0.13207127934434482\n",
      "data_gradient_gradient_multi_stage: 2.1966732899355748\n"
     ]
    }
   ],
   "source": [
    "print('error')\n",
    "print(f\"data_gradient: {data_gradient['error']}\")\n",
    "print(f\"data_gradient_dagger: {data_gradient_dagger['error']}\")\n",
    "print(f\"data_gradient_gradient_multi_stage: {data_gradient_multi_stage['error']}\")"
   ]
  },
  {
   "cell_type": "code",
   "execution_count": 5,
   "id": "78046d4b",
   "metadata": {},
   "outputs": [
    {
     "name": "stdout",
     "output_type": "stream",
     "text": [
      "final_loss\n",
      "data_gradient: 0.0038108772820247333\n",
      "data_gradient_dagger: 0.05763456970453262\n",
      "data_gradient_gradient_multi_stage: 5.9841466281795874e-05\n"
     ]
    }
   ],
   "source": [
    "print('final_loss')\n",
    "print(f\"data_gradient: {data_gradient['final_loss']}\")\n",
    "print(f\"data_gradient_dagger: {data_gradient_dagger['final_loss']}\")\n",
    "print(f\"data_gradient_gradient_multi_stage: {data_gradient_multi_stage['final_loss']}\")"
   ]
  },
  {
   "cell_type": "code",
   "execution_count": 6,
   "id": "d350dbc8",
   "metadata": {},
   "outputs": [],
   "source": [
    "operator_gradient = data_gradient['operator']\n",
    "operator_gradient_dagger= data_gradient_dagger['operator']\n",
    "operator_gradient_multi_stage= data_gradient_multi_stage['operator']"
   ]
  },
  {
   "cell_type": "code",
   "execution_count": 7,
   "id": "c9e427f2",
   "metadata": {},
   "outputs": [],
   "source": [
    "from opt_einsum import contract\n",
    "nocc = 5\n",
    "\n",
    "def fun(diag_coulomb_mats, orbital_rotations):\n",
    "    reconstructed = (\n",
    "            1j\n",
    "            * contract(\n",
    "                \"mpq,map,mip,mbq,mjq->ijab\",\n",
    "                diag_coulomb_mats,\n",
    "                orbital_rotations,\n",
    "                orbital_rotations.conj(),\n",
    "                orbital_rotations,\n",
    "                orbital_rotations.conj(),\n",
    "                # optimize=\"greedy\"\n",
    "            )[:nocc, :nocc, nocc:, nocc:]\n",
    "        )\n",
    "    return reconstructed"
   ]
  },
  {
   "cell_type": "code",
   "execution_count": 8,
   "id": "0735aa46",
   "metadata": {},
   "outputs": [],
   "source": [
    "molecule_name = \"n2\"\n",
    "basis = \"sto-6g\"\n",
    "nelectron, norb = 10, 8\n",
    "\n",
    "\n",
    "molecule_basename = f\"{molecule_name}_{basis}_{nelectron}e{norb}o\"\n",
    "\n",
    "bond_distance = 1.0\n",
    "\n",
    "from molecules_catalog.util import load_molecular_data\n",
    "from pathlib import Path\n",
    "import os\n",
    "from ffsim.variational.util import interaction_pairs_spin_balanced\n",
    "\n",
    "# Get molecular data and molecular Hamiltonian\n",
    "molecules_catalog_dir = \"../../molecules-catalog\"\n",
    "\n",
    "mol_data = load_molecular_data(\n",
    "    f\"{molecule_basename}_d-{bond_distance:.5f}\",\n",
    "    molecules_catalog_dir=molecules_catalog_dir,\n",
    ")\n",
    "norb = mol_data.norb\n",
    "nelec = mol_data.nelec\n",
    "t2 = mol_data.ccsd_t2"
   ]
  },
  {
   "cell_type": "code",
   "execution_count": 9,
   "id": "fa26d151",
   "metadata": {},
   "outputs": [
    {
     "name": "stdout",
     "output_type": "stream",
     "text": [
      "t2 norm: 0.2325443258525995\n",
      "\n",
      "0.21553559262736588\n",
      "0.11822834762201273\n",
      "\n",
      "0.23212473501833156\n",
      "0.11462342079201747\n",
      "loss: 5.9841298593169374e-05\n"
     ]
    }
   ],
   "source": [
    "import numpy as np\n",
    "diag_coulomb_mats_gradient, _ = np.unstack(operator_gradient.diag_coulomb_mats, axis=1)\n",
    "reconstrcuted_operator_gradient = fun(diag_coulomb_mats_gradient, operator_gradient.orbital_rotations)\n",
    "\n",
    "print(f\"t2 norm: {np.linalg.norm(t2)}\")\n",
    "print()\n",
    "print(np.linalg.norm(reconstrcuted_operator_gradient))\n",
    "print(np.max(np.abs((reconstrcuted_operator_gradient))))\n",
    "print()\n",
    "diag_coulomb_mats_gradient_multi_stage, _ = np.unstack(operator_gradient_multi_stage.diag_coulomb_mats, axis=1)\n",
    "reconstrcuted_operator_gradient_multi_stage = fun(diag_coulomb_mats_gradient_multi_stage, operator_gradient_multi_stage.orbital_rotations)\n",
    "\n",
    "print(np.linalg.norm(reconstrcuted_operator_gradient_multi_stage))\n",
    "print(np.max(np.abs((reconstrcuted_operator_gradient_multi_stage))))\n",
    "diff = reconstrcuted_operator_gradient_multi_stage - t2\n",
    "loss = 0.5 * np.sum(np.abs(diff) ** 2)\n",
    "print(f\"loss: {loss}\")\n"
   ]
  },
  {
   "cell_type": "code",
   "execution_count": 11,
   "id": "16e5ac6f",
   "metadata": {},
   "outputs": [],
   "source": [
    "# Compute final state\n",
    "import ffsim\n",
    "reference_state = ffsim.hartree_fock_state(norb, nelec)\n",
    "final_state_gradient = ffsim.apply_unitary(reference_state, operator_gradient, norb=norb, nelec=nelec)\n",
    "final_state_gradient_dagger = ffsim.apply_unitary(reference_state, operator_gradient_dagger, norb=norb, nelec=nelec)\n",
    "final_state_multi_stage = ffsim.apply_unitary(reference_state, operator_gradient_multi_stage, norb=norb, nelec=nelec)"
   ]
  },
  {
   "cell_type": "code",
   "execution_count": 14,
   "id": "e20a5a65",
   "metadata": {},
   "outputs": [
    {
     "name": "stdout",
     "output_type": "stream",
     "text": [
      "sqd energy loss from gradient: 0.01234564509971392\n",
      "sqd energy loss from gradient_dagger: 0.018334499964836937\n",
      "sqd energy loss from multi_stage: 3.355100182034221e-05\n"
     ]
    }
   ],
   "source": [
    "# Run SQD\n",
    "from qiskit.primitives import BitArray\n",
    "from qiskit_addon_sqd.fermion import diagonalize_fermionic_hamiltonian, solve_sci_batch\n",
    "\n",
    "shots = 100_000\n",
    "samples_per_batch = 100\n",
    "n_batches = 3\n",
    "energy_tol = 1e-5\n",
    "occupancies_tol = 1e-3\n",
    "max_iterations = 100\n",
    "symmetrize_spin = True\n",
    "carryover_threshold = 1e-3\n",
    "entropy = 0\n",
    "\n",
    "mol_ham = mol_data.hamiltonian\n",
    "\n",
    "final_states = [final_state_gradient, final_state_gradient_dagger, final_state_multi_stage]\n",
    "names = ['gradient', 'gradient_dagger', 'multi_stage']\n",
    "for final_state, name in zip(final_states, names):\n",
    "    rng = np.random.default_rng(entropy)\n",
    "    samples = ffsim.sample_state_vector(\n",
    "        final_state,\n",
    "        norb=norb,\n",
    "        nelec=nelec,\n",
    "        shots=shots,\n",
    "        seed=rng,\n",
    "        bitstring_type=ffsim.BitstringType.INT,\n",
    "    )\n",
    "    bit_array = BitArray.from_samples(samples, num_bits=2 * norb)\n",
    "    result = diagonalize_fermionic_hamiltonian(\n",
    "        mol_ham.one_body_tensor,\n",
    "        mol_ham.two_body_tensor,\n",
    "        bit_array,\n",
    "        samples_per_batch=samples_per_batch,\n",
    "        norb=norb,\n",
    "        nelec=nelec,\n",
    "        num_batches=n_batches,\n",
    "        energy_tol=energy_tol,\n",
    "        occupancies_tol=occupancies_tol,\n",
    "        max_iterations=max_iterations,\n",
    "        sci_solver=solve_sci_batch,\n",
    "        symmetrize_spin=symmetrize_spin,\n",
    "        carryover_threshold=carryover_threshold,\n",
    "        seed=rng,\n",
    "    )\n",
    "    energy = result.energy + mol_data.core_energy\n",
    "    sci_state = result.sci_state\n",
    "    spin_squared = sci_state.spin_square()\n",
    "    error = energy - mol_data.fci_energy\n",
    "    print(f\"sqd energy loss from {name}: {error}\")"
   ]
  },
  {
   "cell_type": "code",
   "execution_count": null,
   "id": "8d6129a5",
   "metadata": {},
   "outputs": [
    {
     "name": "stdout",
     "output_type": "stream",
     "text": [
      "Traced<float64[4,4,4,4]>with<JVPTrace> with\n",
      "  primal = Array([[[[0., 1., 0., 0.],\n",
      "         [2., 3., 0., 0.],\n",
      "         [0., 0., 0., 0.],\n",
      "         [0., 0., 0., 0.]],\n",
      "\n",
      "        [[0., 1., 0., 0.],\n",
      "         [2., 3., 0., 0.],\n",
      "         [0., 0., 0., 0.],\n",
      "         [0., 0., 0., 0.]],\n",
      "\n",
      "        [[0., 0., 0., 0.],\n",
      "         [0., 0., 0., 0.],\n",
      "         [0., 0., 0., 0.],\n",
      "         [0., 0., 0., 0.]],\n",
      "\n",
      "        [[0., 0., 0., 0.],\n",
      "         [0., 0., 0., 0.],\n",
      "         [0., 0., 0., 0.],\n",
      "         [0., 0., 0., 0.]]],\n",
      "\n",
      "\n",
      "       [[[0., 1., 0., 0.],\n",
      "         [2., 3., 0., 0.],\n",
      "         [0., 0., 0., 0.],\n",
      "         [0., 0., 0., 0.]],\n",
      "\n",
      "        [[0., 1., 0., 0.],\n",
      "         [2., 3., 0., 0.],\n",
      "         [0., 0., 0., 0.],\n",
      "         [0., 0., 0., 0.]],\n",
      "\n",
      "        [[0., 0., 0., 0.],\n",
      "         [0., 0., 0., 0.],\n",
      "         [0., 0., 0., 0.],\n",
      "         [0., 0., 0., 0.]],\n",
      "\n",
      "        [[0., 0., 0., 0.],\n",
      "         [0., 0., 0., 0.],\n",
      "         [0., 0., 0., 0.],\n",
      "         [0., 0., 0., 0.]]],\n",
      "\n",
      "\n",
      "       [[[0., 0., 0., 0.],\n",
      "         [0., 0., 0., 0.],\n",
      "         [0., 0., 0., 0.],\n",
      "         [0., 0., 0., 0.]],\n",
      "\n",
      "        [[0., 0., 0., 0.],\n",
      "         [0., 0., 0., 0.],\n",
      "         [0., 0., 0., 0.],\n",
      "         [0., 0., 0., 0.]],\n",
      "\n",
      "        [[0., 0., 0., 0.],\n",
      "         [0., 0., 0., 0.],\n",
      "         [0., 0., 0., 0.],\n",
      "         [0., 0., 0., 0.]],\n",
      "\n",
      "        [[0., 0., 0., 0.],\n",
      "         [0., 0., 0., 0.],\n",
      "         [0., 0., 0., 0.],\n",
      "         [0., 0., 0., 0.]]],\n",
      "\n",
      "\n",
      "       [[[0., 0., 0., 0.],\n",
      "         [0., 0., 0., 0.],\n",
      "         [0., 0., 0., 0.],\n",
      "         [0., 0., 0., 0.]],\n",
      "\n",
      "        [[0., 0., 0., 0.],\n",
      "         [0., 0., 0., 0.],\n",
      "         [0., 0., 0., 0.],\n",
      "         [0., 0., 0., 0.]],\n",
      "\n",
      "        [[0., 0., 0., 0.],\n",
      "         [0., 0., 0., 0.],\n",
      "         [0., 0., 0., 0.],\n",
      "         [0., 0., 0., 0.]],\n",
      "\n",
      "        [[0., 0., 0., 0.],\n",
      "         [0., 0., 0., 0.],\n",
      "         [0., 0., 0., 0.],\n",
      "         [0., 0., 0., 0.]]]], dtype=float64)\n",
      "  tangent = Traced<float64[4,4,4,4]>with<JaxprTrace> with\n",
      "    pval = (ShapedArray(float64[4,4,4,4]), None)\n",
      "    recipe = JaxprEqnRecipe(eqn_id=<object object at 0x7faac4163290>, in_tracers=(Traced<float64[4,4,4,4]:JaxprTrace>,), out_tracer_refs=[<weakref at 0x7faaa41db1f0; to 'JaxprTracer' at 0x7faaa41daed0>], out_avals=[ShapedArray(float64[4,4,4,4])], primitive=convert_element_type, params={'new_dtype': dtype('float64'), 'weak_type': False, 'sharding': None}, effects=frozenset(), source_info=<jax._src.source_info_util.SourceInfo object at 0x7faaa41f1720>, ctx=JaxprEqnContext(compute_type=None, threefry_partitionable=True, cur_abstract_mesh=AbstractMesh((), axis_types=()), xla_metadata=None))\n"
     ]
    },
    {
     "data": {
      "text/plain": [
       "(Array(24., dtype=float64),\n",
       " Array([[4., 4.],\n",
       "        [4., 4.]], dtype=float64))"
      ]
     },
     "execution_count": 47,
     "metadata": {},
     "output_type": "execute_result"
    }
   ],
   "source": [
    "import numpy as np\n",
    "import jax.numpy as jnp\n",
    "import jax\n",
    "\n",
    "indices = jnp.arange(2)\n",
    "indices = [[i,j]]\n",
    "\n",
    "def fun(a):\n",
    "    b = jnp.zeros((4, 4, 4, 4))\n",
    "    # b[:, :2, :2] = a\n",
    "    b = b.at[indices].set(a)\n",
    "    # b = jnp.concatenate([b,b,b,b])\n",
    "    print(b)\n",
    "    return jnp.sum(b)\n",
    "\n",
    "a = jnp.array([[0.0, 1.0], [2.0, 3.0]])\n",
    "\n",
    "value_and_grad_func = jax.value_and_grad(fun)\n",
    "\n",
    "value_and_grad_func(a)\n"
   ]
  },
  {
   "cell_type": "code",
   "execution_count": null,
   "id": "73c70c27",
   "metadata": {},
   "outputs": [],
   "source": []
  }
 ],
 "metadata": {
  "kernelspec": {
   "display_name": ".venv",
   "language": "python",
   "name": "python3"
  },
  "language_info": {
   "codemirror_mode": {
    "name": "ipython",
    "version": 3
   },
   "file_extension": ".py",
   "mimetype": "text/x-python",
   "name": "python",
   "nbconvert_exporter": "python",
   "pygments_lexer": "ipython3",
   "version": "3.10.12"
  }
 },
 "nbformat": 4,
 "nbformat_minor": 5
}
